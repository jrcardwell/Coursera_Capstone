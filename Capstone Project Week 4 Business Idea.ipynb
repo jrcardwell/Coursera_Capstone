{
    "cells": [
        {
            "cell_type": "markdown",
            "metadata": {
                "collapsed": true
            },
            "source": "# Week 4 - Problem statement, background and data description"
        },
        {
            "cell_type": "markdown",
            "metadata": {},
            "source": "## Introduction and background"
        },
        {
            "cell_type": "markdown",
            "metadata": {},
            "source": "The human relationship with \"Man's best friend\" goes back more than fifteen thousand years(1).  Early man likely used dogs for hunting, but their tameness and friendliness towards humans together with millenia of targeted breeding to enhance those traits has made them nearly ubiquitous across human cultures.  Archaeological discoveries from Greek and Roman Epitaphs suggest that even two thousand years ago, dogs were more than useful working animals, but a cherished part of the family(2). In Canada, there are almost 8 million dogs country-wide, and 35% of households have a dog(3,4). During COVID-19, Canada experienced a surge in pet ownership - 18% of pet owners reported obtaining a new pet since the start of the pandemic, with owners in the 18-24 age bracket most likely (38%) to have purchased a pet since then(4). COVID-19 has also been responsible for a majority of working Canadians to work from home, with this increased closeness causing the human-dog bond to be even stronger. As COVID-19 restrictions ease, there will also be a need for 'outside' activities that do not jeopardize these bonds.\n\nVancouver, located in British Columbia, Canada, is home to a growing number of craft breweries with more than 20 new breweries being added in the province each year since 2013, with 27 breweries in Vancouver alone as of 2020(5). This plethora of breweries supports an even larger number of pubs. Foursquare.com, a website that provides detailed information on more than 75 million venues worldwide, lists 90 pubs within the City. \n\nOff-leash beer gardens - dog bars - are a relatively new phenomenon, with a few in the United States and although there are a few dog-friendly pubs, there are no bona-fide dog bars in Vancouver. A dog bar is like an off-leash dog park with the addition of a full service bar so that owner and their bestie can enjoy quality time socializing, getting to know new people (and dogs) and have a truly enjoyable outing together. In this project we will use demographic and published statistical data to investigate the best neighborhood in which to create a dog bar in Vancouver."
        },
        {
            "cell_type": "markdown",
            "metadata": {},
            "source": "## Problem Statement"
        },
        {
            "cell_type": "markdown",
            "metadata": {},
            "source": "The problem this project aims to solve is which Vancouver neighborhood would be the best location in which to create a dog bar.  Some of the factors to take into consideration will be: \n<ul>\n    <li> which neighborhoods have dog parks?</li>\n    <li> which neighborhoods have existing pubs?</li>\n    <li> the number of dog-owning households in each neighborhood and their proximity to pubs and dog parks </li>\n   </ul>\n      "
        },
        {
            "cell_type": "markdown",
            "metadata": {},
            "source": ""
        },
        {
            "cell_type": "markdown",
            "metadata": {},
            "source": ""
        },
        {
            "cell_type": "markdown",
            "metadata": {},
            "source": "### References:"
        },
        {
            "cell_type": "markdown",
            "metadata": {},
            "source": "<ol>\n<li>\nSerpell, J. (1995). The Domestic Dog: Its Evolution, Behaviour and Interactions with People. Retrieved from https://books.google.com.au/books?id=I8HU_3ycrrEC&lpg=PA7&dq=Origins%20of%20the%20dog%3A%20domestication%20and%20early%20history%20%2F%E2%80%8B%20Juliet%20Clutton-Brock&pg=PA7#v=onepage&q&f=false\n    </li>\n    <li>\n Podberscek,Anthony L.,  Paul, Elizabeth S., Serpell, James A.(2005) Companion Animals and Us: Exploring the Relationship Between People and Pets. Cabridge University Press, pp.      \n    </li>\n    <li>\nBush (2011). Canada's Pet Wellness Report. Retrieved from:  https://www.canadianveterinarians.net/documents/canada-s-pet-wellness-report2011#:~:text=The%20subject%20of%20pet%20wellness,(source%3A%20Ipsos%20Reid).\n    </li>\n    <li>\nChapman, M, Pisani, S. (2020) Retrieved from: https://narrativeResearch.ca/canada-has-seen-a-significant-increase-in-pet-owners-since-the-start-of-the-covid-19-pandemic/\n    </li>\n    <li>\n        https://bcaletrail.ca\n    </li>\n</ol>"
        },
        {
            "cell_type": "code",
            "execution_count": null,
            "metadata": {},
            "outputs": [],
            "source": ""
        }
    ],
    "metadata": {
        "kernelspec": {
            "display_name": "Python 3.7",
            "language": "python",
            "name": "python3"
        },
        "language_info": {
            "codemirror_mode": {
                "name": "ipython",
                "version": 3
            },
            "file_extension": ".py",
            "mimetype": "text/x-python",
            "name": "python",
            "nbconvert_exporter": "python",
            "pygments_lexer": "ipython3",
            "version": "3.7.10"
        }
    },
    "nbformat": 4,
    "nbformat_minor": 1
}