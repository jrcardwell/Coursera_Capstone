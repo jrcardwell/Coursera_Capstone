{
    "cells": [
        {
            "cell_type": "markdown",
            "metadata": {
                "collapsed": true
            },
            "source": "# Week 4 - Introduction and Business Problem"
        },
        {
            "cell_type": "markdown",
            "metadata": {},
            "source": "# Dogs and Suds - Analysis of possible locations for a dog bar in Vancouver, BC, Canada."
        },
        {
            "cell_type": "markdown",
            "metadata": {},
            "source": "## Introduction"
        },
        {
            "cell_type": "markdown",
            "metadata": {},
            "source": "The human relationship with \"Man's best friend\" goes back more than fifteen thousand years(1).  Archaeological discoveries from Greek and Roman Epitaphs suggest that even two thousand years ago, dogs were more than useful working animals, but a cherished part of the family(2). In Canada, there are almost 8 million dogs country-wide, and 35% of households have a dog(3,4). During COVID-19, Canada experienced a surge in pet ownership - 18% of pet owners reported obtaining a new pet since the start of the pandemic, with owners in the 18-24 age bracket most likely (38%) to have purchased a pet since then(4). COVID-19 has also been responsible for a majority of working Canadians to work from home, with this increased closeness causing the human-dog bond to be even stronger. As COVID-19 restrictions ease, there will be a need for 'outside' activities that do not jeopardize these bonds.\n\nVancouver, located in British Columbia, Canada, is home to a growing number of craft breweries with more than 20 new breweries being added in the province each year since 2013, with 27 breweries in Vancouver alone as of 2020(5). This plethora of breweries supports an even larger number of pubs. Foursquare.com, a website that provides detailed information on more than 75 million venues worldwide, lists over 90 pubs within the city limits with many more in the surrounding suburbs. \n\nOff-leash beer gardens - dog bars - are a relatively new phenomenon, with a few in the United States (examples [here](https://www.pawsforabeer.com/?fbclid=IwAR1vR_nEbPuP_X_vJ_406pj7Hv4Frbwvf4XkB0jvN57R0N0PVcxLhbtSIMo),  [here](https://dogbarstpete.com/?fbclid=IwAR38NEeC8Zo49SXMmkkuhTP2CGJ0O72jJ_tAnsDC-MDUJAPf6Bekntcw9oU) and [here](https://www.tapsandtailsdogbar.com/) ) and although there are a few dog-friendly pubs, there are no bona-fide dog bars in Vancouver. A dog bar is like an off-leash dog park with the addition of a full service bar so that owner and their dog can enjoy quality time socializing, meeting and getting to know new people (and dogs) and have a truly enjoyable outing together.  Opening a new dog bar will require detailed and well-thought out plan and involves many variables, not least of which is where in the city it would best be located.  In this project we will use demographic data combined with data from Foursquare.com to investigate the best neighborhood in which to create a dog bar in Vancouver.  \n\n"
        },
        {
            "cell_type": "markdown",
            "metadata": {},
            "source": "## Problem Statement"
        },
        {
            "cell_type": "markdown",
            "metadata": {},
            "source": "The problem this project aims to solve is to analyze which neighborhoods in the City of Vancouver would be the best location in which to create a dog bar.  Using Machine-learning techniques such as Clustering analysis, some of the factors it will take into consideration will be: \n<ul>\n    <li> which neighborhoods have existing dog parks?</li>\n    <li> which neighborhoods have existing pubs?</li>\n    <li> what is the density of dog-owning households in each neighborhood</li>\n</ul>\n      "
        },
        {
            "cell_type": "markdown",
            "metadata": {},
            "source": "## Target Audience"
        },
        {
            "cell_type": "markdown",
            "metadata": {},
            "source": "The key audience for this project will be entrepreneurs looking to open a novel business in an optimum location in Vancouver; armed with the insights gained in this project about where to locate it, they will be able to plan the next phase of their business plan to open Vancouver's first dog bar.  In addition, dog owners would benefit from knowing where their nearest dog parks would be, and, barring the introduction of an actual dog bar, if there is a pub on the way to or from the dog park that is dog-friendly.  Patrons of existing pubs would be interested in the outcome, particularly those with dogs.  Owners and potential owners of pubs as well as city planners would also benefit from insights into the locations of other pubs and the degree to which they are dog-friendly provided by this project."
        },
        {
            "cell_type": "markdown",
            "metadata": {},
            "source": "### References:"
        },
        {
            "cell_type": "markdown",
            "metadata": {},
            "source": "<ol>\n<li>\nSerpell, J. (1995). The Domestic Dog: Its Evolution, Behaviour and Interactions with People. Retrieved from https://books.google.com.au/books?id=I8HU_3ycrrEC&lpg=PA7&dq=Origins%20of%20the%20dog%3A%20domestication%20and%20early%20history%20%2F%E2%80%8B%20Juliet%20Clutton-Brock&pg=PA7#v=onepage&q&f=false\n    </li>\n    <li>\nPodberscek,Anthony L.,  Paul, Elizabeth S. and Serpell, James A.(2005) Companion Animals and Us: Exploring the Relationship Between People and Pets. Cabridge University Press      \n    </li>\n    <li>\nBush (2011). Canada's Pet Wellness Report. Retrieved from:  https://www.canadianveterinarians.net/documents/canada-s-pet-wellness-report2011#:~:text=The%20subject%20of%20pet%20wellness,(source%3A%20Ipsos%20Reid).\n    </li>\n    <li>\nChapman, M and Pisani, S. (2020) https://narrativeResearch.ca/canada-has-seen-a-significant-increase-in-pet-owners-since-the-start-of-the-covid-19-pandemic/\n    </li>\n    <li>\n        Siren, C (2021) https://www.cahi-icsa.ca/news/2020-canadian-pet-population-figures-released\n    </li>\n    <li>\n      Wiebe, J, 2020. Looking Back on the Biggest Decade in BC Craft Beer History  https://bcaletrail.ca/looking-back-on-the-biggest-decade-in-bc-craft-beer-history/\n    </li>\n</ol>"
        },
        {
            "cell_type": "code",
            "execution_count": null,
            "metadata": {},
            "outputs": [],
            "source": ""
        }
    ],
    "metadata": {
        "kernelspec": {
            "display_name": "Python 3.7",
            "language": "python",
            "name": "python3"
        },
        "language_info": {
            "codemirror_mode": {
                "name": "ipython",
                "version": 3
            },
            "file_extension": ".py",
            "mimetype": "text/x-python",
            "name": "python",
            "nbconvert_exporter": "python",
            "pygments_lexer": "ipython3",
            "version": "3.7.10"
        }
    },
    "nbformat": 4,
    "nbformat_minor": 1
}